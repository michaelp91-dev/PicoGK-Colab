{
  "nbformat": 4,
  "nbformat_minor": 0,
  "metadata": {
    "colab": {
      "provenance": [],
      "authorship_tag": "ABX9TyMVFCJBCgRHhyQQnXacjtwg",
      "include_colab_link": true
    },
    "kernelspec": {
      "name": "python3",
      "display_name": "Python 3"
    },
    "language_info": {
      "name": "python"
    }
  },
  "cells": [
    {
      "cell_type": "markdown",
      "metadata": {
        "id": "view-in-github",
        "colab_type": "text"
      },
      "source": [
        "<a href=\"https://colab.research.google.com/github/michaelp91-dev/PicoGK-Colab/blob/main/PicoGK_Colab.ipynb\" target=\"_parent\"><img src=\"https://colab.research.google.com/assets/colab-badge.svg\" alt=\"Open In Colab\"/></a>"
      ]
    },
    {
      "cell_type": "code",
      "execution_count": null,
      "metadata": {
        "id": "qgWi5HatQbR2"
      },
      "outputs": [],
      "source": [
        "!git clone --recursive https://github.com/michaelp91-dev/PicoGKRuntime.git\n",
        "!sudo chmod +x PicoGKRuntime/Install_Dependencies/colab.sh\n",
        "!./PicoGKRuntime/Install_Dependencies/colab.sh\n",
        "\n",
        "!sudo cp PicoGKRuntime/build/lib/*.so /usr/local/lib/\n",
        "!sudo chmod +x /usr/local/lib/picogk.so\n",
        "!ldconfig\n",
        "\n",
        "!dotnet new console -n PicoGK_Colab\n",
        "%cd PicoGK_Colab\n",
        "!dotnet build\n",
        "!dotnet run\n",
        "!git clone https://github.com/michaelp91-dev/PicoGK.git"
      ]
    },
    {
      "cell_type": "code",
      "source": [
        "import os\n",
        "import subprocess\n",
        "\n",
        "# Specify the desired directory path\n",
        "project_directory = \"/content/PicoGK_Colab\"\n",
        "os.chdir(project_directory)\n",
        "current_directory = os.getcwd()\n",
        "print(f\"Current working directory: {current_directory}\")\n",
        "\n",
        "def CreateProgramCS(file_name, code):\n",
        "  with open(file_name, 'w') as f:\n",
        "    f.write(code)\n",
        "\n",
        "  print(\"Program.cs has been written\")\n",
        "\n",
        "ProgramCode = \"\"\"\n",
        "using PicoGK;\n",
        "using System.Numerics;\n",
        "using System;\n",
        "try\n",
        "{\n",
        "    using (Library oLibrary = new(0.1f))\n",
        "    {\n",
        "      Lattice lat = new();\n",
        "      lat.AddBeam(  new(0,0,0),\n",
        "                    new(50,0,0),\n",
        "                    10,\n",
        "                    10,\n",
        "                    true);\n",
        "      Voxels vox = new(lat);\n",
        "      vox.mshAsMesh().SaveToStlFile(\"picogk.stl\");\n",
        "    }\n",
        "}\n",
        "\n",
        "catch (Exception e)\n",
        "{\n",
        "    Console.Write(e.ToString());\n",
        "}\n",
        "\"\"\"\n",
        "\n",
        "CreateProgramCS('Program.cs', ProgramCode)\n",
        "\n",
        "# Execute 'dotnet run\" to run the application\n",
        "run_process = subprocess.run(['dotnet', 'run'], capture_output=True, text=True, cwd=project_directory)\n",
        "if run_process.returncode == 0:\n",
        "  print(\"dotnet run executed successfully!\")\n",
        "else:\n",
        "  print(f\"Error executing dotnet run:\\n{run_process.stderr}\")"
      ],
      "metadata": {
        "id": "Hr-6ynL-QigP"
      },
      "execution_count": null,
      "outputs": []
    },
    {
      "cell_type": "code",
      "source": [
        "!dotnet run"
      ],
      "metadata": {
        "id": "OytSGrS9R0Qa"
      },
      "execution_count": null,
      "outputs": []
    }
  ]
}
